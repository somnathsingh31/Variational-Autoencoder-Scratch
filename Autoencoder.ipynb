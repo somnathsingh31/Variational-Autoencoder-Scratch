{
  "cells": [
    {
      "cell_type": "code",
      "execution_count": 1,
      "metadata": {
        "id": "Po_dEWbcqxRZ"
      },
      "outputs": [],
      "source": [
        "import torch\n",
        "from torchvision import datasets, transforms\n",
        "from torch.utils.data import DataLoader"
      ]
    },
    {
      "cell_type": "code",
      "execution_count": 2,
      "metadata": {
        "id": "DY-O5LNawHyR"
      },
      "outputs": [],
      "source": [
        "#Set up data transform. Used to convert data into tensor\n",
        "transform = transforms.ToTensor()"
      ]
    },
    {
      "cell_type": "code",
      "execution_count": 3,
      "metadata": {
        "colab": {
          "base_uri": "https://localhost:8080/"
        },
        "id": "SZCH0EZewXr-",
        "outputId": "a1418048-bfb1-4b10-c41b-d53c38ed47a5"
      },
      "outputs": [
        {
          "name": "stderr",
          "output_type": "stream",
          "text": [
            "100%|██████████| 9.91M/9.91M [00:11<00:00, 893kB/s] \n",
            "100%|██████████| 28.9k/28.9k [00:00<00:00, 59.0kB/s]\n",
            "100%|██████████| 1.65M/1.65M [00:01<00:00, 1.27MB/s]\n",
            "100%|██████████| 4.54k/4.54k [00:00<00:00, 8.44MB/s]\n"
          ]
        }
      ],
      "source": [
        "#download data set\n",
        "train_dataset = datasets.MNIST(\n",
        "    root=\"./data\",\n",
        "    train=True,\n",
        "    download=True,\n",
        "    transform=transform\n",
        ")\n",
        "\n",
        "test_dataset = datasets.MNIST(\n",
        "    root=\"./data\",\n",
        "    train=False,\n",
        "    download=True,\n",
        "    transform=transform\n",
        ")"
      ]
    },
    {
      "cell_type": "code",
      "execution_count": 4,
      "metadata": {
        "colab": {
          "base_uri": "https://localhost:8080/"
        },
        "id": "HfEIqTV6UZ5t",
        "outputId": "17648172-6ea9-4881-803c-2f0d2f362c57"
      },
      "outputs": [
        {
          "data": {
            "text/plain": [
              "Dataset MNIST\n",
              "    Number of datapoints: 60000\n",
              "    Root location: ./data\n",
              "    Split: Train\n",
              "    StandardTransform\n",
              "Transform: ToTensor()"
            ]
          },
          "execution_count": 4,
          "metadata": {},
          "output_type": "execute_result"
        }
      ],
      "source": [
        "train_dataset"
      ]
    },
    {
      "cell_type": "code",
      "execution_count": 5,
      "metadata": {
        "id": "M4YfxaELUhtu"
      },
      "outputs": [],
      "source": [
        "#Create Dataloader\n",
        "\n",
        "train_loader = DataLoader(train_dataset, batch_size=128, shuffle=False)\n",
        "test_loader = DataLoader(test_dataset, batch_size=128, shuffle=False)"
      ]
    },
    {
      "cell_type": "code",
      "execution_count": 6,
      "metadata": {
        "colab": {
          "base_uri": "https://localhost:8080/"
        },
        "id": "wYyktqZfVOrE",
        "outputId": "555fbbe7-f20a-46af-8aee-a0b5456a054c"
      },
      "outputs": [
        {
          "name": "stdout",
          "output_type": "stream",
          "text": [
            "torch.Size([128, 1, 28, 28])\n",
            "torch.Size([128])\n"
          ]
        }
      ],
      "source": [
        "images, labels = next(iter(train_loader))\n",
        "print(images.shape)\n",
        "print(labels.shape)"
      ]
    },
    {
      "cell_type": "code",
      "execution_count": 7,
      "metadata": {
        "colab": {
          "base_uri": "https://localhost:8080/"
        },
        "id": "o39QAi8pWy69",
        "outputId": "a34b92ce-2d6b-451f-8fa7-78443c686277"
      },
      "outputs": [
        {
          "data": {
            "text/plain": [
              "torch.Size([1, 28, 28])"
            ]
          },
          "execution_count": 7,
          "metadata": {},
          "output_type": "execute_result"
        }
      ],
      "source": [
        "images[0].shape"
      ]
    },
    {
      "cell_type": "code",
      "execution_count": 8,
      "metadata": {
        "colab": {
          "base_uri": "https://localhost:8080/",
          "height": 214
        },
        "id": "ES1G6p-pw1bC",
        "outputId": "dab0adba-e7cd-401e-ae99-bf69f1332c62"
      },
      "outputs": [
        {
          "data": {
            "image/png": "[encoded data removed]",
            "text/plain": [
              "<Figure size 2200x1000 with 8 Axes>"
            ]
          },
          "metadata": {},
          "output_type": "display_data"
        }
      ],
      "source": [
        "import matplotlib.pyplot as plt\n",
        "\n",
        "plt.figure(figsize=(22,10))\n",
        "for i in range(8):\n",
        "    plt.subplot(1,8,i+1)\n",
        "    plt.imshow(images[i].squeeze(), cmap='gray')\n",
        "    plt.title(f\"Label: {labels[i]}\")\n",
        "    plt.axis(\"off\")\n",
        "\n",
        "plt.show()"
      ]
    },
    {
      "cell_type": "code",
      "execution_count": 9,
      "metadata": {
        "id": "NZSfZFjrxvrb"
      },
      "outputs": [],
      "source": [
        "import torch.nn as nn\n",
        "\n",
        "class Autoencoder(nn.Module):\n",
        "    def __init__(self, input_dim, hidden_dim, output_dim):\n",
        "        super().__init__()\n",
        "\n",
        "        #encoder block\n",
        "        self.encoder = nn.Sequential(\n",
        "            nn.Linear(input_dim, 256),\n",
        "            nn.ReLU(),\n",
        "            nn.Linear(256, hidden_dim),\n",
        "            nn.ReLU()\n",
        "        )\n",
        "\n",
        "        #decoder block\n",
        "        self.decoder = nn.Sequential(\n",
        "            nn.Linear(hidden_dim, 256),\n",
        "            nn.ReLU(),\n",
        "            nn.Linear(256, output_dim),\n",
        "            nn.Sigmoid() # apply the sigmoid activation function to compress the output to a range of (0, 1)\n",
        "        )\n",
        "\n",
        "    def forward(self, x):\n",
        "        encoded = self.encoder(x)\n",
        "        decoded = self.decoder(encoded)\n",
        "        return encoded, decoded"
      ]
    },
    {
      "cell_type": "code",
      "execution_count": 10,
      "metadata": {
        "colab": {
          "base_uri": "https://localhost:8080/"
        },
        "id": "Okl10E515blS",
        "outputId": "5efe57d5-749d-4014-ac8a-5b46e621aa38"
      },
      "outputs": [
        {
          "data": {
            "text/plain": [
              "Autoencoder(\n",
              "  (encoder): Sequential(\n",
              "    (0): Linear(in_features=784, out_features=256, bias=True)\n",
              "    (1): ReLU()\n",
              "    (2): Linear(in_features=256, out_features=16, bias=True)\n",
              "    (3): ReLU()\n",
              "  )\n",
              "  (decoder): Sequential(\n",
              "    (0): Linear(in_features=16, out_features=256, bias=True)\n",
              "    (1): ReLU()\n",
              "    (2): Linear(in_features=256, out_features=784, bias=True)\n",
              "    (3): Sigmoid()\n",
              "  )\n",
              ")"
            ]
          },
          "execution_count": 10,
          "metadata": {},
          "output_type": "execute_result"
        }
      ],
      "source": [
        "#Training setup\n",
        "device = torch.device(\"cuda\" if torch.cuda.is_available() else \"cpu\")\n",
        "input_dim, hidden_dim, output_dim = 784, 16, 784\n",
        "\n",
        "model = Autoencoder(input_dim, hidden_dim, output_dim)\n",
        "optimizer = torch.optim.Adam(model.parameters(), lr=0.001)\n",
        "\n",
        "criterion = nn.BCELoss()\n",
        "model.to(device)"
      ]
    },
    {
      "cell_type": "code",
      "execution_count": null,
      "metadata": {
        "colab": {
          "base_uri": "https://localhost:8080/"
        },
        "id": "UwGBQlIZ-Toj",
        "outputId": "2ef887fc-31cb-414e-f04d-33e409698523"
      },
      "outputs": [
        {
          "name": "stdout",
          "output_type": "stream",
          "text": [
            "Epoch 10/100 - Loss: 0.1003\n",
            "Epoch 20/100 - Loss: 0.0984\n",
            "Epoch 30/100 - Loss: 0.0972\n",
            "Epoch 40/100 - Loss: 0.0964\n",
            "Epoch 50/100 - Loss: 0.0957\n",
            "Epoch 60/100 - Loss: 0.0952\n",
            "Epoch 70/100 - Loss: 0.0948\n",
            "Epoch 80/100 - Loss: 0.0944\n",
            "Epoch 90/100 - Loss: 0.0942\n",
            "Epoch 100/100 - Loss: 0.0939\n"
          ]
        }
      ],
      "source": [
        "epochs = 100\n",
        "\n",
        "for epoch in range(epochs):\n",
        "    running_loss = 0.0\n",
        "    for batch_x, _ in train_loader:\n",
        "        batch_x = batch_x.to(device)\n",
        "\n",
        "        #Reshape torch.Size([64, 1, 28, 28]) to torch.Size([64, 784])\n",
        "        batch_x = batch_x.reshape(batch_x.shape[0], -1)\n",
        "\n",
        "        #Forward pass\n",
        "        encoded, decoded = model(batch_x)\n",
        "\n",
        "        #loss calculation\n",
        "        loss = criterion(decoded, batch_x)\n",
        "        optimizer.zero_grad() \n",
        "        loss.backward()\n",
        "        optimizer.step()\n",
        "\n",
        "        running_loss += loss.item() * batch_x.size(0) \n",
        "\n",
        "    epoch_loss = running_loss / len(train_loader.dataset) \n",
        "    if (epoch+1)%10==0:\n",
        "        print(f\"Epoch {epoch+1}/{epochs} - Loss: {epoch_loss:.4f}\")\n"
      ]
    },
    {
      "cell_type": "code",
      "execution_count": 18,
      "metadata": {
        "id": "TDF3wQ9tDfO2"
      },
      "outputs": [],
      "source": [
        "batch_x, _ = next(iter(test_loader))\n",
        "batch_x = batch_x.to(device)\n",
        "\n",
        "batch_x = batch_x.reshape(batch_x.shape[0], -1)\n",
        "\n",
        "with torch.no_grad():\n",
        "    encoded, decoded = model(batch_x[:10])\n"
      ]
    },
    {
      "cell_type": "code",
      "execution_count": null,
      "metadata": {
        "colab": {
          "base_uri": "https://localhost:8080/",
          "height": 162
        },
        "id": "E8WwPt8mdFAa",
        "outputId": "08e87a56-3732-405e-b937-a87d075e7bd6"
      },
      "outputs": [
        {
          "data": {
            "image/png": "[encoded data removed]",
            "text/plain": [
              "<Figure size 2200x1000 with 10 Axes>"
            ]
          },
          "metadata": {},
          "output_type": "display_data"
        }
      ],
      "source": [
        "#Reconstructed images\n",
        "plt.figure(figsize=(22,10))\n",
        "i = 1\n",
        "decoded_cpu = decoded.cpu()\n",
        "for decoded_img in decoded_cpu:\n",
        "    plt.subplot(1,10,i)\n",
        "    plt.imshow(decoded_img.reshape(28,28), cmap='gray')\n",
        "    plt.axis('off')\n",
        "\n",
        "    i+=1\n",
        "plt.show()"
      ]
    },
    {
      "cell_type": "code",
      "execution_count": null,
      "metadata": {
        "colab": {
          "base_uri": "https://localhost:8080/",
          "height": 162
        },
        "id": "30rX3b00d3Ia",
        "outputId": "df7318e0-dc0d-4c36-9e5c-ca135f2eb779"
      },
      "outputs": [
        {
          "data": {
            "image/png": "[encoded data removed]",
            "text/plain": [
              "<Figure size 2200x1000 with 10 Axes>"
            ]
          },
          "metadata": {},
          "output_type": "display_data"
        }
      ],
      "source": [
        "#True images\n",
        "plt.figure(figsize=(22,10))\n",
        "i = 1\n",
        "true_image = batch_x[:10].cpu()\n",
        "for img in true_image:\n",
        "    plt.subplot(1,10,i)\n",
        "    plt.imshow(img.reshape(28,28), cmap='gray')\n",
        "    plt.axis('off')\n",
        "\n",
        "    i+=1\n",
        "plt.show()"
      ]
    }
  ],
  "metadata": {
    "accelerator": "GPU",
    "colab": {
      "gpuType": "T4",
      "provenance": []
    },
    "kernelspec": {
      "display_name": "Python 3",
      "name": "python3"
    },
    "language_info": {
      "name": "python"
    }
  },
  "nbformat": 4,
  "nbformat_minor": 0
}
