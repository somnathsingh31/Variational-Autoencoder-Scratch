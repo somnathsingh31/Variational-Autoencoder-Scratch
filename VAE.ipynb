{
  "nbformat": 4,
  "nbformat_minor": 0,
  "metadata": {
    "colab": {
      "provenance": [],
      "gpuType": "T4"
    },
    "kernelspec": {
      "name": "python3",
      "display_name": "Python 3"
    },
    "language_info": {
      "name": "python"
    },
    "accelerator": "GPU"
  },
  "cells": [
    {
      "cell_type": "code",
      "execution_count": 1,
      "metadata": {
        "id": "SwpLda7tjxCj"
      },
      "outputs": [],
      "source": [
        "import torch\n",
        "from torchvision import datasets, transforms\n",
        "from torch.utils.data import DataLoader"
      ]
    },
    {
      "cell_type": "code",
      "source": [
        "#Set up data transform. Used to convert data into tensor\n",
        "transform = transforms.ToTensor()"
      ],
      "metadata": {
        "id": "PrejtYvkrMaU"
      },
      "execution_count": 2,
      "outputs": []
    },
    {
      "cell_type": "code",
      "source": [
        "#Download dataset\n",
        "train_dataset = datasets.MNIST(\n",
        "    root=\"./data\",\n",
        "    train=True,\n",
        "    download=True,\n",
        "    transform=transform\n",
        ")\n",
        "\n",
        "test_dataset = datasets.MNIST(\n",
        "    root=\"./data\",\n",
        "    train=False,\n",
        "    download=True,\n",
        "    transform=transform\n",
        ")"
      ],
      "metadata": {
        "colab": {
          "base_uri": "https://localhost:8080/"
        },
        "id": "EQJMzeSprvz7",
        "outputId": "32652f1f-a518-4dd4-b8d3-505725879301"
      },
      "execution_count": 3,
      "outputs": [
        {
          "output_type": "stream",
          "name": "stderr",
          "text": [
            "100%|██████████| 9.91M/9.91M [00:00<00:00, 16.2MB/s]\n",
            "100%|██████████| 28.9k/28.9k [00:00<00:00, 506kB/s]\n",
            "100%|██████████| 1.65M/1.65M [00:00<00:00, 4.54MB/s]\n",
            "100%|██████████| 4.54k/4.54k [00:00<00:00, 10.3MB/s]\n"
          ]
        }
      ]
    },
    {
      "cell_type": "code",
      "source": [
        "train_dataset"
      ],
      "metadata": {
        "colab": {
          "base_uri": "https://localhost:8080/"
        },
        "id": "8jTEW5cjvHJf",
        "outputId": "b3e4a69a-5d18-4f8a-da31-f9c99c7fdaf1"
      },
      "execution_count": 4,
      "outputs": [
        {
          "output_type": "execute_result",
          "data": {
            "text/plain": [
              "Dataset MNIST\n",
              "    Number of datapoints: 60000\n",
              "    Root location: ./data\n",
              "    Split: Train\n",
              "    StandardTransform\n",
              "Transform: ToTensor()"
            ]
          },
          "metadata": {},
          "execution_count": 4
        }
      ]
    },
    {
      "cell_type": "code",
      "source": [
        "#Create dataloader\n",
        "train_loader = DataLoader(train_dataset, batch_size=128, shuffle=True)\n",
        "test_loader = DataLoader(test_dataset, batch_size=128, shuffle=True)"
      ],
      "metadata": {
        "id": "kUSGKN3EvMPz"
      },
      "execution_count": 5,
      "outputs": []
    },
    {
      "cell_type": "code",
      "source": [
        "images, labels = next(iter(train_loader))\n",
        "print(images.shape)\n",
        "print(labels.shape)"
      ],
      "metadata": {
        "colab": {
          "base_uri": "https://localhost:8080/"
        },
        "id": "QtK5KqyrwDDr",
        "outputId": "4325337c-4bac-4fa7-a312-94cf7e15ddda"
      },
      "execution_count": 6,
      "outputs": [
        {
          "output_type": "stream",
          "name": "stdout",
          "text": [
            "torch.Size([128, 1, 28, 28])\n",
            "torch.Size([128])\n"
          ]
        }
      ]
    },
    {
      "cell_type": "code",
      "source": [
        "import matplotlib.pyplot as plt\n",
        "\n",
        "plt.figure(figsize=(22,10))\n",
        "for i in range(8):\n",
        "    plt.subplot(1,8,i+1)\n",
        "    plt.imshow(images[i].squeeze(), cmap='gray')\n",
        "    plt.title(f\"Label: {labels[i]}\")\n",
        "    plt.axis(\"off\")\n",
        "\n",
        "plt.show()"
      ],
      "metadata": {
        "colab": {
          "base_uri": "https://localhost:8080/",
          "height": 240
        },
        "id": "oDLRD9cOwVMg",
        "outputId": "dd7372af-6777-4090-ff2c-11a97a9a2d34"
      },
      "execution_count": 7,
      "outputs": [
        {
          "output_type": "display_data",
          "data": {
            "text/plain": [
              "<Figure size 2200x1000 with 8 Axes>"
            ],
            "image/png": "[encoded data removed]"
          },
          "metadata": {}
        }
      ]
    },
    {
      "cell_type": "code",
      "source": [
        "import torch.nn as nn\n",
        "\n",
        "class VAE(nn.Module):\n",
        "\n",
        "    def __init__(self, input_dim, hidden_dim, output_dim):\n",
        "        super().__init__()\n",
        "\n",
        "        #encoder block\n",
        "        self.encoder = nn.Sequential(\n",
        "            nn.Linear(input_dim, 256),\n",
        "            nn.ReLU(),\n",
        "            nn.Linear(256, hidden_dim),\n",
        "            nn.ReLU()\n",
        "        )\n",
        "\n",
        "        #decoder block\n",
        "        self.decoder = nn.Sequential(\n",
        "            nn.Linear(hidden_dim, 256),\n",
        "            nn.ReLU(),\n",
        "            nn.Linear(256, output_dim),\n",
        "            nn.Sigmoid() # apply the sigmoid activation function to compress the output to a range of (0, 1)\n",
        "        )\n",
        "\n",
        "        #Add mu and sigma\n",
        "        self.mu = nn.Linear(hidden_dim, hidden_dim)\n",
        "        # Neural nets can output any real value, but variance must be positive—so we predict log-variance instead.\n",
        "        self.log_var = nn.Linear(hidden_dim, hidden_dim)\n",
        "\n",
        "    def reparameterize(self, mu, log_var):\n",
        "        #Compute std deviation from log_var: log_var = log(σ²) => σ = e^(log_var/2)\n",
        "        std = torch.exp(log_var/2)\n",
        "        # Generate random noise from standard normal distribution of the same shape as std\n",
        "        eps = torch.randn_like(std) #generate random values matching the shape and device of an existing tensor\n",
        "        return mu + eps * std\n",
        "\n",
        "    def forward(self, x):\n",
        "        encoded = self.encoder(x)\n",
        "        # Compute mean and log variance vectors\n",
        "        # After the encoder, mu and log_var are computed in parallel from the same encoded vector using two separate linear layers.\n",
        "        mu = self.mu(encoded)\n",
        "        log_var = self.log_var(encoded)\n",
        "\n",
        "        #Reparametrize the latent variable\n",
        "        z = self.reparameterize(mu, log_var)\n",
        "\n",
        "        # Pass the latent variable through decoder\n",
        "        decoded = self.decoder(z)\n",
        "        return encoded, decoded, mu, log_var"
      ],
      "metadata": {
        "id": "0EoNJoc81re_"
      },
      "execution_count": 8,
      "outputs": []
    },
    {
      "cell_type": "code",
      "source": [
        "import torch.nn.functional as F\n",
        "\n",
        "#Define a loss function that combines binary cross-entropy and KL divergence: https://arxiv.org/pdf/1907.08956\n",
        "def loss_function(x, decoded_x, mu, log_var):\n",
        "    BCE = F.binary_cross_entropy(decoded_x, x, reduction=\"sum\")\n",
        "    #Compute KL divergence, this acts as regularization\n",
        "    KL = -0.5 * torch.sum(1 + log_var - log_var.exp() - mu.pow(2))\n",
        "    return BCE + KL"
      ],
      "metadata": {
        "id": "ylA6mfe2RHfW"
      },
      "execution_count": 9,
      "outputs": []
    },
    {
      "cell_type": "code",
      "source": [
        "def train_model(train_loader, epochs = 100, lr=0.001):\n",
        "    device = torch.device(\"cuda\" if torch.cuda.is_available() else \"cpu\")\n",
        "\n",
        "    input_dim, hidden_dim, output_dim = 784, 16, 784\n",
        "\n",
        "    model = VAE(input_dim, hidden_dim, output_dim)\n",
        "    optimizer = torch.optim.Adam(model.parameters(), lr=lr)\n",
        "\n",
        "    model.to(device)\n",
        "\n",
        "    for epoch in range(epochs):\n",
        "        running_loss = 0.0\n",
        "\n",
        "        for batch_x, _ in train_loader:\n",
        "            batch_x = batch_x.to(device) # Unlike model.to(device), batch_x.to(device) returns a new tensor (does NOT modify in place), so reassign: batch_x = batch_x.to(device)\n",
        "\n",
        "            batch_x = batch_x.reshape(batch_x.shape[0], -1)\n",
        "\n",
        "            #Forward pass\n",
        "            encoded, decoded, mu, log_var = model(batch_x)\n",
        "            loss = loss_function(batch_x, decoded, mu, log_var)\n",
        "            optimizer.zero_grad()\n",
        "            #Back prop\n",
        "            loss.backward()\n",
        "            optimizer.step()\n",
        "\n",
        "            running_loss += loss.item() * batch_x.shape[0]\n",
        "\n",
        "        epoch_loss = running_loss / len(train_loader.dataset)\n",
        "        if epoch%10==0:\n",
        "            print(f\"Epoch {(epoch+1)}/{epochs} - Loss: {epoch_loss:.4f}\")\n",
        "\n",
        "    return model\n"
      ],
      "metadata": {
        "id": "jR74biCFfIbV"
      },
      "execution_count": 10,
      "outputs": []
    },
    {
      "cell_type": "code",
      "source": [
        "trained_model = train_model(train_loader, epochs = 100)"
      ],
      "metadata": {
        "colab": {
          "base_uri": "https://localhost:8080/"
        },
        "id": "6HWD_gG-kW3c",
        "outputId": "c6275b17-5431-44b2-9052-45186ba95e77"
      },
      "execution_count": 12,
      "outputs": [
        {
          "output_type": "stream",
          "name": "stdout",
          "text": [
            "Epoch 1/100 - Loss: 24522.5885\n",
            "Epoch 11/100 - Loss: 14731.5615\n",
            "Epoch 21/100 - Loss: 14215.9820\n",
            "Epoch 31/100 - Loss: 14013.6758\n",
            "Epoch 41/100 - Loss: 13906.4449\n",
            "Epoch 51/100 - Loss: 13821.7280\n",
            "Epoch 61/100 - Loss: 13761.7331\n",
            "Epoch 71/100 - Loss: 13719.5745\n",
            "Epoch 81/100 - Loss: 13679.8605\n",
            "Epoch 91/100 - Loss: 13648.2215\n"
          ]
        }
      ]
    },
    {
      "cell_type": "code",
      "source": [
        "device = torch.device(\"cuda\" if torch.cuda.is_available() else \"cpu\")\n",
        "\n",
        "batch_x, _ = next(iter(test_loader))\n",
        "batch_x = batch_x.to(device)\n",
        "\n",
        "batch_x = batch_x.reshape(batch_x.shape[0], -1)\n",
        "\n",
        "with torch.no_grad():\n",
        "    encoded, decoded, mu, log_var = trained_model(batch_x[:10])"
      ],
      "metadata": {
        "id": "GiInV3GzkpE4"
      },
      "execution_count": 14,
      "outputs": []
    },
    {
      "cell_type": "code",
      "source": [
        "#Reconstructed images\n",
        "plt.figure(figsize=(22,10))\n",
        "i = 1\n",
        "decoded_cpu = decoded.cpu()\n",
        "for decoded_img in decoded_cpu:\n",
        "    plt.subplot(1,10,i)\n",
        "    plt.imshow(decoded_img.reshape(28,28), cmap='gray')\n",
        "    plt.axis('off')\n",
        "\n",
        "    i+=1\n",
        "plt.show()"
      ],
      "metadata": {
        "colab": {
          "base_uri": "https://localhost:8080/",
          "height": 181
        },
        "id": "p7pofwa_mqnT",
        "outputId": "d2ffc65a-816b-45af-b34e-b2d067071a75"
      },
      "execution_count": 15,
      "outputs": [
        {
          "output_type": "display_data",
          "data": {
            "text/plain": [
              "<Figure size 2200x1000 with 10 Axes>"
            ],
            "image/png": "[encoded data removed]"
          },
          "metadata": {}
        }
      ]
    },
    {
      "cell_type": "code",
      "source": [
        "#True images\n",
        "plt.figure(figsize=(22,10))\n",
        "i = 1\n",
        "true_image = batch_x[:10].cpu()\n",
        "for img in true_image:\n",
        "    plt.subplot(1,10,i)\n",
        "    plt.imshow(img.reshape(28,28), cmap='gray')\n",
        "    plt.axis('off')\n",
        "\n",
        "    i+=1\n",
        "plt.show()"
      ],
      "metadata": {
        "colab": {
          "base_uri": "https://localhost:8080/",
          "height": 181
        },
        "id": "PTWkOHTam_vf",
        "outputId": "1c66f7fe-1b0a-42f6-958e-402c1a09de1c"
      },
      "execution_count": 16,
      "outputs": [
        {
          "output_type": "display_data",
          "data": {
            "text/plain": [
              "<Figure size 2200x1000 with 10 Axes>"
            ],
            "image/png": "[encoded data removed]"
          },
          "metadata": {}
        }
      ]
    },
    {
      "cell_type": "code",
      "source": [],
      "metadata": {
        "id": "pf9PGqlAof_v"
      },
      "execution_count": null,
      "outputs": []
    },
    {
      "cell_type": "code",
      "source": [
        "#image generated from noise\n",
        "\n",
        "def sample(num_samples):\n",
        "    with torch.no_grad():\n",
        "        #Generate Random noise\n",
        "        hidden_dim = 16\n",
        "        z = torch.randn(num_samples, hidden_dim).to(device)\n",
        "        #Pass the generated noise through decoder\n",
        "        decoded_imgs = trained_model.decoder(z)\n",
        "    return decoded_imgs"
      ],
      "metadata": {
        "id": "_gVLl6YUow6E"
      },
      "execution_count": 26,
      "outputs": []
    },
    {
      "cell_type": "code",
      "source": [
        "decoded_imgs = sample(10)"
      ],
      "metadata": {
        "id": "hwX4Obq1qG_V"
      },
      "execution_count": 27,
      "outputs": []
    },
    {
      "cell_type": "code",
      "source": [
        "#image generated from noise\n",
        "plt.figure(figsize=(22,10))\n",
        "i = 1\n",
        "for img in decoded_imgs.cpu():\n",
        "    img = img.reshape(28, 28)\n",
        "    plt.subplot(1,10,i)\n",
        "    plt.imshow(img.reshape(28,28), cmap='gray')\n",
        "    plt.axis('off')\n",
        "\n",
        "    i+=1\n",
        "plt.show()"
      ],
      "metadata": {
        "colab": {
          "base_uri": "https://localhost:8080/",
          "height": 181
        },
        "id": "ips1WKK-r1C6",
        "outputId": "f106c770-166b-4af4-b583-0f499ce81d37"
      },
      "execution_count": 29,
      "outputs": [
        {
          "output_type": "display_data",
          "data": {
            "text/plain": [
              "<Figure size 2200x1000 with 10 Axes>"
            ],
            "image/png": "[encoded data removed]"
          },
          "metadata": {}
        }
      ]
    },
    {
      "cell_type": "code",
      "source": [],
      "metadata": {
        "id": "pZEnEjQ4s1YA"
      },
      "execution_count": null,
      "outputs": []
    }
  ]
}